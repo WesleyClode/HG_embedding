{
 "cells": [
  {
   "cell_type": "code",
   "execution_count": 152,
   "id": "4a5378db-3e50-4487-a4a9-8ba99aa29ba3",
   "metadata": {},
   "outputs": [],
   "source": [
    "import six.moves.cPickle as pickle\n",
    "import numpy as np\n",
    "import string\n",
    "import re\n",
    "import random\n",
    "import math\n",
    "import pandas as pd\n",
    "from collections import Counter\n",
    "from itertools import *\n",
    "import tqdm"
   ]
  },
  {
   "cell_type": "code",
   "execution_count": 301,
   "id": "f4837e89-5326-4a91-ae22-ec3a8f471b03",
   "metadata": {},
   "outputs": [
    {
     "name": "stdout",
     "output_type": "stream",
     "text": [
      "l 22309\n",
      "f 6498\n",
      "i 90024\n",
      "c 45906\n"
     ]
    }
   ],
   "source": [
    "relation_f = [\"l_embedding.txt\",\"f_embedding.txt\", \"i_embedding.txt\",\"c_embedding.txt\"]\n",
    "\n",
    "#store relational data \n",
    "for i in range(len(relation_f)):\n",
    "    f_name = relation_f[i]\n",
    "    max_id = 0\n",
    "    with open('../data/2007_1_1/'+f_name, \"r\") as neigh_f:\n",
    "        for line in islice(neigh_f, 1, None):\n",
    "            values = line.split()\n",
    "            index = int(values[0])\n",
    "            if index>max_id:\n",
    "                max_id = index\n",
    "    print(f_name[0], max_id+1)"
   ]
  },
  {
   "cell_type": "code",
   "execution_count": 209,
   "id": "6151e380-5d9b-4f5b-98a1-b57682a11f66",
   "metadata": {},
   "outputs": [],
   "source": [
    "# 构建节点的一阶邻居\n",
    "l_f_list_train = [[] for k in range(L_n)]\n",
    "f_l_list_train = [[] for k in range(F_n)]\n",
    "f_i_list_train = [[] for k in range(F_n)] \n",
    "i_f_list_train = [[] for k in range(I_n)] \n",
    "i_c_list_train = [[] for k in range(I_n)]\n",
    "c_i_list_train = [[] for k in range(C_n)]\n",
    "c_c_list_train = [[] for k in range(C_n)]\n",
    "\n",
    "relation_f = [\"l_f_list_train.txt\", \"f_l_list_train.txt\",\\\n",
    "\t\t \"f_i_list_train.txt\", \"i_f_list_train.txt\",\\\n",
    "\t\t \"i_c_list_train.txt\",\"c_i_list_train.txt\",\\\n",
    "\t\t \"c_c_list_train.txt\"]\n",
    "\n",
    "#store relational data \n",
    "for i in range(len(relation_f)):\n",
    "    f_name = relation_f[i]\n",
    "    with open('../data/2007_1_1/'+f_name, \"r\") as neigh_f:\n",
    "        for line in neigh_f:\n",
    "            line = line.strip()\n",
    "            node_id = int(re.split(':', line)[0])\n",
    "            neigh_list = re.split(':', line)[1]\n",
    "            # if node_id == 29956:\n",
    "            #     print(neigh_list)\n",
    "            neigh_list_id = re.split(',', neigh_list)\n",
    "            for j in range(len(neigh_list_id)):\n",
    "                rela_list_train = eval(f_name[:-4])\n",
    "                # rela_list_train[node_id].append(f_name[2]+str(neigh_list_id[j]))\n",
    "                list_train_set = set(rela_list_train[node_id])\n",
    "                list_train_set.add(f_name[2]+str(neigh_list_id[j]))\n",
    "                rela_list_train[node_id] = list(list_train_set)"
   ]
  },
  {
   "cell_type": "code",
   "execution_count": 210,
   "id": "1175a69c-f88c-4c86-a39e-718df12e3bf0",
   "metadata": {},
   "outputs": [],
   "source": [
    "l_neigh_list_train = [[] for k in range(L_n)]\n",
    "for i in range(L_n):\n",
    "    l_neigh_list_train[i] += l_f_list_train[i]\n",
    "    \n",
    "f_neigh_list_train = [[] for k in range(F_n)]\n",
    "for i in range(F_n):\n",
    "    f_neigh_list_train[i] += f_l_list_train[i]\n",
    "    f_neigh_list_train[i] += f_i_list_train[i] \n",
    "    \n",
    "i_neigh_list_train = [[] for k in range(I_n)]\n",
    "for i in range(I_n):\n",
    "    i_neigh_list_train[i] += i_f_list_train[i]\n",
    "    i_neigh_list_train[i] += i_c_list_train[i] \n",
    "    \n",
    "c_neigh_list_train = [[] for k in range(C_n)]\n",
    "for i in range(C_n):\n",
    "    c_neigh_list_train[i] += c_i_list_train[i]\n",
    "    c_neigh_list_train[i] += c_c_list_train[i] "
   ]
  },
  {
   "cell_type": "code",
   "execution_count": 271,
   "id": "ca20d82d-a936-4687-8ba6-83556380169c",
   "metadata": {},
   "outputs": [],
   "source": [
    "node_type = ['l','f','i','c']\n",
    "list_train_list = [l_f_list_train, f_neigh_list_train, i_neigh_list_train, c_neigh_list_train]\n",
    "walk_n = 10\n",
    "walk_L= 30\n",
    "data_path = '../data/2007_1_1/'\n",
    "def gen_het_rand_walk():\n",
    "\thet_walk_f = open(data_path + \"het_random_walk.txt\", \"w\")\n",
    "\t#print len(p_neigh_list_train)\n",
    "\tfor i in range(walk_n):\n",
    "\t\tfor j in range(L_n):\n",
    "\t\t\tif len(l_f_list_train[j]):\n",
    "\t\t\t\tcurNode = \"l\" + str(j)\n",
    "\t\t\t\thet_walk_f.write(curNode + \" \")\n",
    "\t\t\t\tfor l in range(walk_L - 1):\n",
    "\t\t\t\t\tnode_idx = node_type.index(curNode[0])\n",
    "\t\t\t\t\tcur_idx = int(curNode[1:])\n",
    "\t\t\t\t\t# print(cur_idx)\n",
    "\t\t\t\t\tcurNode = random.choice(list_train_list[node_idx][cur_idx])\n",
    "\t\t\t\t\t# print(node_idx, curNode)\n",
    "\t\t\t\t\thet_walk_f.write(curNode + \" \")\n",
    "\t\t\t\thet_walk_f.write(\"\\n\")\n",
    "\thet_walk_f.close()"
   ]
  },
  {
   "cell_type": "code",
   "execution_count": 159,
   "id": "50e8ce1d-a969-4d68-b0ca-9a95a3fa7622",
   "metadata": {},
   "outputs": [],
   "source": [
    "gen_het_rand_walk()"
   ]
  },
  {
   "cell_type": "code",
   "execution_count": 160,
   "id": "5e68a954-1ccf-4987-8ac0-50fcdeb414e3",
   "metadata": {},
   "outputs": [
    {
     "name": "stdout",
     "output_type": "stream",
     "text": [
      "Output...\n"
     ]
    }
   ],
   "source": [
    "# import string\n",
    "# import re\n",
    "# import random\n",
    "# import math\n",
    "# import numpy as np\n",
    "from gensim.models import Word2Vec\n",
    "from itertools import *\n",
    "dimen = 384\n",
    "window = 5\n",
    "\n",
    "\n",
    "def read_random_walk_corpus():\n",
    "\twalks=[]\n",
    "\tinputfile = open(\"../data/2007_1_1/het_random_walk.txt\", \"r\")\n",
    "\tfor line in inputfile:\n",
    "\t\tpath = []\n",
    "\t\tnode_list=re.split(' ',line)\n",
    "\t\tfor i in range(len(node_list)):\n",
    "\t\t\tpath.append(node_list[i])\n",
    "\t\twalks.append(path)\n",
    "\tinputfile.close()\n",
    "\treturn walks\n",
    "\n",
    "\n",
    "walk_corpus = read_random_walk_corpus()\n",
    "model = Word2Vec(walk_corpus, vector_size = dimen, window = window, min_count = 0, workers = 2, sg = 1, hs = 0, negative = 5)\n",
    "\n",
    "\n",
    "print(\"Output...\")\n",
    "#model.wv.save_word2vec_format(\"../data/node_embedding.txt\")\n",
    "model.wv.save_word2vec_format(\"../data/2007_1_1/node_net_embedding.txt\")"
   ]
  }
 ],
 "metadata": {
  "kernelspec": {
   "display_name": "Python 3 (ipykernel)",
   "language": "python",
   "name": "python3"
  },
  "language_info": {
   "codemirror_mode": {
    "name": "ipython",
    "version": 3
   },
   "file_extension": ".py",
   "mimetype": "text/x-python",
   "name": "python",
   "nbconvert_exporter": "python",
   "pygments_lexer": "ipython3",
   "version": "3.10.2"
  }
 },
 "nbformat": 4,
 "nbformat_minor": 5
}
